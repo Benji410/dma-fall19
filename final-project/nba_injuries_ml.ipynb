{
 "cells": [
  {
   "cell_type": "code",
   "execution_count": 139,
   "metadata": {},
   "outputs": [],
   "source": [
    "import pandas as pd\n",
    "import numpy as np\n",
    "import sklearn\n",
    "\n",
    "from sklearn.neural_network import MLPClassifier\n",
    "from sklearn.tree import DecisionTreeClassifier\n",
    "from sklearn.svm import SVC\n",
    "from sklearn.linear_model import LogisticRegression\n",
    "\n",
    "from sklearn.preprocessing import StandardScaler, MinMaxScaler\n",
    "from sklearn.preprocessing import LabelEncoder, OneHotEncoder\n",
    "from sklearn.feature_extraction import DictVectorizer\n",
    "\n",
    "from sklearn.pipeline import Pipeline\n",
    "from sklearn.metrics import accuracy_score\n",
    "from sklearn.model_selection import train_test_split\n",
    "from sklearn.model_selection import GridSearchCV, ParameterGrid\n",
    "from sklearn.model_selection import cross_validate, KFold\n",
    "from sklearn.model_selection import train_test_split\n",
    "from sklearn.metrics import f1_score, precision_score, recall_score\n",
    "\n",
    "import matplotlib.pyplot as plt"
   ]
  },
  {
   "cell_type": "code",
   "execution_count": 341,
   "metadata": {},
   "outputs": [],
   "source": [
    "data = pd.read_csv(\"aabmlogs.csv\")\n",
    "data = data.fillna(0)"
   ]
  },
  {
   "cell_type": "code",
   "execution_count": 295,
   "metadata": {},
   "outputs": [
    {
     "data": {
      "text/plain": [
       "(6244.0, 37619)"
      ]
     },
     "execution_count": 295,
     "metadata": {},
     "output_type": "execute_result"
    }
   ],
   "source": [
    "sum(data['Rest']), len(data)"
   ]
  },
  {
   "cell_type": "code",
   "execution_count": 117,
   "metadata": {},
   "outputs": [
    {
     "data": {
      "text/plain": [
       "36266"
      ]
     },
     "execution_count": 117,
     "metadata": {},
     "output_type": "execute_result"
    }
   ],
   "source": [
    "# data = data[data['G'] > 10]\n",
    "# data = data[data['MP'] >= 5]\n",
    "# len(data), sum(data['Rest'])"
   ]
  },
  {
   "cell_type": "code",
   "execution_count": 342,
   "metadata": {},
   "outputs": [],
   "source": [
    "np.random.seed(42)\n",
    "norest = data[data['Rest']==0]\n",
    "samples = norest.sample(n=10000)"
   ]
  },
  {
   "cell_type": "code",
   "execution_count": 343,
   "metadata": {},
   "outputs": [
    {
     "data": {
      "text/plain": [
       "(6244.0, 27619)"
      ]
     },
     "execution_count": 343,
     "metadata": {},
     "output_type": "execute_result"
    }
   ],
   "source": [
    "undersample = data.drop(samples.index)\n",
    "data = undersample\n",
    "sum(undersample['Rest']), len(undersample)"
   ]
  },
  {
   "cell_type": "code",
   "execution_count": 344,
   "metadata": {},
   "outputs": [],
   "source": [
    "train, val = train_test_split(data, test_size=.2, random_state=0)"
   ]
  },
  {
   "cell_type": "code",
   "execution_count": 356,
   "metadata": {},
   "outputs": [
    {
     "data": {
      "text/html": [
       "<div>\n",
       "<style scoped>\n",
       "    .dataframe tbody tr th:only-of-type {\n",
       "        vertical-align: middle;\n",
       "    }\n",
       "\n",
       "    .dataframe tbody tr th {\n",
       "        vertical-align: top;\n",
       "    }\n",
       "\n",
       "    .dataframe thead th {\n",
       "        text-align: right;\n",
       "    }\n",
       "</style>\n",
       "<table border=\"1\" class=\"dataframe\">\n",
       "  <thead>\n",
       "    <tr style=\"text-align: right;\">\n",
       "      <th></th>\n",
       "      <th>G</th>\n",
       "      <th>Age</th>\n",
       "      <th>MP</th>\n",
       "      <th>FG</th>\n",
       "      <th>FGA</th>\n",
       "      <th>FG%</th>\n",
       "      <th>3P</th>\n",
       "      <th>3PA</th>\n",
       "      <th>3P%</th>\n",
       "      <th>FT</th>\n",
       "      <th>...</th>\n",
       "      <th>TRB</th>\n",
       "      <th>AST</th>\n",
       "      <th>STL</th>\n",
       "      <th>BLK</th>\n",
       "      <th>TOV</th>\n",
       "      <th>PTS</th>\n",
       "      <th>GmSc</th>\n",
       "      <th>+/-</th>\n",
       "      <th>score</th>\n",
       "      <th>Rest</th>\n",
       "    </tr>\n",
       "  </thead>\n",
       "  <tbody>\n",
       "    <tr>\n",
       "      <th>24639</th>\n",
       "      <td>14.0</td>\n",
       "      <td>20.0</td>\n",
       "      <td>17.142857</td>\n",
       "      <td>2.285714</td>\n",
       "      <td>4.857143</td>\n",
       "      <td>0.470588</td>\n",
       "      <td>1.071429</td>\n",
       "      <td>2.571429</td>\n",
       "      <td>0.416667</td>\n",
       "      <td>0.785714</td>\n",
       "      <td>...</td>\n",
       "      <td>2.285714</td>\n",
       "      <td>1.142857</td>\n",
       "      <td>0.928571</td>\n",
       "      <td>0.071429</td>\n",
       "      <td>0.428571</td>\n",
       "      <td>6.428571</td>\n",
       "      <td>5.235714</td>\n",
       "      <td>4.642857</td>\n",
       "      <td>0.0</td>\n",
       "      <td>0.0</td>\n",
       "    </tr>\n",
       "    <tr>\n",
       "      <th>16725</th>\n",
       "      <td>25.0</td>\n",
       "      <td>23.0</td>\n",
       "      <td>29.500000</td>\n",
       "      <td>4.846154</td>\n",
       "      <td>9.846154</td>\n",
       "      <td>0.492188</td>\n",
       "      <td>1.307692</td>\n",
       "      <td>3.615385</td>\n",
       "      <td>0.361702</td>\n",
       "      <td>0.961538</td>\n",
       "      <td>...</td>\n",
       "      <td>5.115385</td>\n",
       "      <td>0.884615</td>\n",
       "      <td>1.000000</td>\n",
       "      <td>0.615385</td>\n",
       "      <td>1.230769</td>\n",
       "      <td>11.961538</td>\n",
       "      <td>8.976923</td>\n",
       "      <td>-0.538462</td>\n",
       "      <td>0.0</td>\n",
       "      <td>0.0</td>\n",
       "    </tr>\n",
       "    <tr>\n",
       "      <th>24901</th>\n",
       "      <td>25.0</td>\n",
       "      <td>25.0</td>\n",
       "      <td>19.566667</td>\n",
       "      <td>2.466667</td>\n",
       "      <td>4.633333</td>\n",
       "      <td>0.532374</td>\n",
       "      <td>0.333333</td>\n",
       "      <td>0.600000</td>\n",
       "      <td>0.555556</td>\n",
       "      <td>0.433333</td>\n",
       "      <td>...</td>\n",
       "      <td>2.900000</td>\n",
       "      <td>4.066667</td>\n",
       "      <td>0.900000</td>\n",
       "      <td>0.166667</td>\n",
       "      <td>1.666667</td>\n",
       "      <td>5.700000</td>\n",
       "      <td>5.990000</td>\n",
       "      <td>-1.166667</td>\n",
       "      <td>1.0</td>\n",
       "      <td>0.0</td>\n",
       "    </tr>\n",
       "    <tr>\n",
       "      <th>30571</th>\n",
       "      <td>24.0</td>\n",
       "      <td>22.0</td>\n",
       "      <td>30.807692</td>\n",
       "      <td>6.076923</td>\n",
       "      <td>12.269231</td>\n",
       "      <td>0.495298</td>\n",
       "      <td>2.076923</td>\n",
       "      <td>5.115385</td>\n",
       "      <td>0.406015</td>\n",
       "      <td>3.000000</td>\n",
       "      <td>...</td>\n",
       "      <td>7.653846</td>\n",
       "      <td>2.038462</td>\n",
       "      <td>0.961538</td>\n",
       "      <td>0.846154</td>\n",
       "      <td>1.423077</td>\n",
       "      <td>17.230769</td>\n",
       "      <td>14.403846</td>\n",
       "      <td>-1.923077</td>\n",
       "      <td>0.0</td>\n",
       "      <td>0.0</td>\n",
       "    </tr>\n",
       "    <tr>\n",
       "      <th>4157</th>\n",
       "      <td>41.0</td>\n",
       "      <td>29.0</td>\n",
       "      <td>19.261905</td>\n",
       "      <td>2.500000</td>\n",
       "      <td>4.642857</td>\n",
       "      <td>0.538462</td>\n",
       "      <td>0.285714</td>\n",
       "      <td>0.761905</td>\n",
       "      <td>0.375000</td>\n",
       "      <td>0.952381</td>\n",
       "      <td>...</td>\n",
       "      <td>4.500000</td>\n",
       "      <td>1.809524</td>\n",
       "      <td>0.571429</td>\n",
       "      <td>0.690476</td>\n",
       "      <td>0.833333</td>\n",
       "      <td>6.238095</td>\n",
       "      <td>6.254762</td>\n",
       "      <td>1.476190</td>\n",
       "      <td>1.0</td>\n",
       "      <td>0.0</td>\n",
       "    </tr>\n",
       "  </tbody>\n",
       "</table>\n",
       "<p>5 rows × 24 columns</p>\n",
       "</div>"
      ],
      "text/plain": [
       "          G   Age         MP        FG        FGA       FG%        3P  \\\n",
       "24639  14.0  20.0  17.142857  2.285714   4.857143  0.470588  1.071429   \n",
       "16725  25.0  23.0  29.500000  4.846154   9.846154  0.492188  1.307692   \n",
       "24901  25.0  25.0  19.566667  2.466667   4.633333  0.532374  0.333333   \n",
       "30571  24.0  22.0  30.807692  6.076923  12.269231  0.495298  2.076923   \n",
       "4157   41.0  29.0  19.261905  2.500000   4.642857  0.538462  0.285714   \n",
       "\n",
       "            3PA       3P%        FT  ...       TRB       AST       STL  \\\n",
       "24639  2.571429  0.416667  0.785714  ...  2.285714  1.142857  0.928571   \n",
       "16725  3.615385  0.361702  0.961538  ...  5.115385  0.884615  1.000000   \n",
       "24901  0.600000  0.555556  0.433333  ...  2.900000  4.066667  0.900000   \n",
       "30571  5.115385  0.406015  3.000000  ...  7.653846  2.038462  0.961538   \n",
       "4157   0.761905  0.375000  0.952381  ...  4.500000  1.809524  0.571429   \n",
       "\n",
       "            BLK       TOV        PTS       GmSc       +/-  score  Rest  \n",
       "24639  0.071429  0.428571   6.428571   5.235714  4.642857    0.0   0.0  \n",
       "16725  0.615385  1.230769  11.961538   8.976923 -0.538462    0.0   0.0  \n",
       "24901  0.166667  1.666667   5.700000   5.990000 -1.166667    1.0   0.0  \n",
       "30571  0.846154  1.423077  17.230769  14.403846 -1.923077    0.0   0.0  \n",
       "4157   0.690476  0.833333   6.238095   6.254762  1.476190    1.0   0.0  \n",
       "\n",
       "[5 rows x 24 columns]"
      ]
     },
     "execution_count": 356,
     "metadata": {},
     "output_type": "execute_result"
    }
   ],
   "source": [
    "train.head()"
   ]
  },
  {
   "cell_type": "code",
   "execution_count": 345,
   "metadata": {},
   "outputs": [],
   "source": [
    "feat = ['G', 'Age', 'MP', 'FGA', '3PA', 'FTA', 'TRB', 'AST', 'STL', 'BLK', 'TOV', 'PTS', 'GmSc',\n",
    "       '+/-', 'score']\n",
    "pca_feat = ['G', 'MP', 'Age', '+/-', 'TRB', 'AST', 'score', '3PA', 'FGA']\n",
    "X_train, y_train = train[feat], train[['Rest']]\n",
    "X_val, y_val = val[feat], val[['Rest']]"
   ]
  },
  {
   "cell_type": "code",
   "execution_count": 346,
   "metadata": {},
   "outputs": [
    {
     "data": {
      "text/plain": [
       "(Index(['G', 'Age', 'MP', 'FGA', '3PA', 'FTA', 'TRB', 'AST', 'STL', 'BLK',\n",
       "        'TOV', 'PTS', 'GmSc', '+/-', 'score'],\n",
       "       dtype='object'), Index(['Rest'], dtype='object'))"
      ]
     },
     "execution_count": 346,
     "metadata": {},
     "output_type": "execute_result"
    }
   ],
   "source": [
    "X_train.columns, y_train.columns"
   ]
  },
  {
   "cell_type": "code",
   "execution_count": 331,
   "metadata": {},
   "outputs": [
    {
     "data": {
      "text/plain": [
       "(15, 1)"
      ]
     },
     "execution_count": 331,
     "metadata": {},
     "output_type": "execute_result"
    }
   ],
   "source": [
    "len(X_train.columns), len(y_train.columns)"
   ]
  },
  {
   "cell_type": "markdown",
   "metadata": {},
   "source": [
    "## Decision Tree "
   ]
  },
  {
   "cell_type": "code",
   "execution_count": 334,
   "metadata": {},
   "outputs": [
    {
     "name": "stdout",
     "output_type": "stream",
     "text": [
      "Fitting 3 folds for each of 240 candidates, totalling 720 fits\n"
     ]
    },
    {
     "name": "stderr",
     "output_type": "stream",
     "text": [
      "[Parallel(n_jobs=1)]: Using backend SequentialBackend with 1 concurrent workers.\n",
      "[Parallel(n_jobs=1)]: Done 720 out of 720 | elapsed:  2.3min finished\n"
     ]
    },
    {
     "data": {
      "text/plain": [
       "GridSearchCV(cv=3, error_score='raise-deprecating',\n",
       "             estimator=DecisionTreeClassifier(class_weight=None,\n",
       "                                              criterion='gini', max_depth=None,\n",
       "                                              max_features=None,\n",
       "                                              max_leaf_nodes=None,\n",
       "                                              min_impurity_decrease=0.0,\n",
       "                                              min_impurity_split=None,\n",
       "                                              min_samples_leaf=1,\n",
       "                                              min_samples_split=2,\n",
       "                                              min_weight_fraction_leaf=0.0,\n",
       "                                              presort=False, random_state=None,\n",
       "                                              splitter='best'),\n",
       "             iid='warn', n_jobs=None,\n",
       "             param_grid={'max_depth': range(10, 50, 5),\n",
       "                         'max_features': range(4, 15, 2),\n",
       "                         'min_samples_split': range(2, 12, 2)},\n",
       "             pre_dispatch='2*n_jobs', refit=True, return_train_score=False,\n",
       "             scoring='recall', verbose=1)"
      ]
     },
     "execution_count": 334,
     "metadata": {},
     "output_type": "execute_result"
    }
   ],
   "source": [
    "tree = DecisionTreeClassifier()\n",
    "grid = {'max_depth': range(10, 50, 5),\n",
    "              'min_samples_split' : range(2, 12, 2),\n",
    "              'max_features' : range(4, 15, 2)}\n",
    "cv = GridSearchCV(tree, param_grid=grid, scoring='recall', verbose=1, cv=3)\n",
    "cv.fit(X=X_train, y=y_train)"
   ]
  },
  {
   "cell_type": "code",
   "execution_count": 336,
   "metadata": {},
   "outputs": [
    {
     "data": {
      "text/plain": [
       "(0.6597883982762366,\n",
       " {'max_depth': 40, 'max_features': 14, 'min_samples_split': 2})"
      ]
     },
     "execution_count": 336,
     "metadata": {},
     "output_type": "execute_result"
    }
   ],
   "source": [
    "cv.best_score_, cv.best_params_"
   ]
  },
  {
   "cell_type": "code",
   "execution_count": 347,
   "metadata": {},
   "outputs": [
    {
     "name": "stderr",
     "output_type": "stream",
     "text": [
      "[Parallel(n_jobs=1)]: Using backend SequentialBackend with 1 concurrent workers.\n",
      "[Parallel(n_jobs=1)]: Done   5 out of   5 | elapsed:    1.6s finished\n"
     ]
    },
    {
     "data": {
      "text/plain": [
       "0.706176408001135"
      ]
     },
     "execution_count": 347,
     "metadata": {},
     "output_type": "execute_result"
    }
   ],
   "source": [
    "tree = DecisionTreeClassifier(max_depth=40, max_features=14, min_samples_split=2)\n",
    "cross_validate(tree, X=X_train, y=y_train, cv=5, verbose=1, scoring='recall', return_train_score=True)['test_score'].mean()"
   ]
  },
  {
   "cell_type": "code",
   "execution_count": 348,
   "metadata": {},
   "outputs": [
    {
     "data": {
      "text/plain": [
       "DecisionTreeClassifier(class_weight=None, criterion='gini', max_depth=40,\n",
       "                       max_features=8, max_leaf_nodes=None,\n",
       "                       min_impurity_decrease=0.0, min_impurity_split=None,\n",
       "                       min_samples_leaf=1, min_samples_split=2,\n",
       "                       min_weight_fraction_leaf=0.0, presort=False,\n",
       "                       random_state=None, splitter='best')"
      ]
     },
     "execution_count": 348,
     "metadata": {},
     "output_type": "execute_result"
    }
   ],
   "source": [
    "tree = DecisionTreeClassifier(max_depth=40, max_features=8, min_samples_split=2)\n",
    "tree.fit(X_train, y_train)"
   ]
  },
  {
   "cell_type": "code",
   "execution_count": 349,
   "metadata": {},
   "outputs": [
    {
     "data": {
      "text/plain": [
       "0.8727371469949312"
      ]
     },
     "execution_count": 349,
     "metadata": {},
     "output_type": "execute_result"
    }
   ],
   "source": [
    "pred = tree.predict(X_val)\n",
    "accuracy_score(y_val, pred)"
   ]
  },
  {
   "cell_type": "code",
   "execution_count": 350,
   "metadata": {},
   "outputs": [
    {
     "data": {
      "text/plain": [
       "(0.7125103562551781, 0.7072368421052632, 0.7098638052001651)"
      ]
     },
     "execution_count": 350,
     "metadata": {},
     "output_type": "execute_result"
    }
   ],
   "source": [
    "recall_score(y_val, pred), precision_score(y_val, pred), f1_score(y_val, pred)"
   ]
  },
  {
   "cell_type": "code",
   "execution_count": 282,
   "metadata": {},
   "outputs": [
    {
     "data": {
      "text/plain": [
       "<matplotlib.axes._subplots.AxesSubplot at 0x1a1fb24438>"
      ]
     },
     "execution_count": 282,
     "metadata": {},
     "output_type": "execute_result"
    },
    {
     "data": {
      "image/png": "[encoded data removed]",
      "text/plain": [
       "<Figure size 720x576 with 2 Axes>"
      ]
     },
     "metadata": {
      "needs_background": "light"
     },
     "output_type": "display_data"
    }
   ],
   "source": [
    "import seaborn as sns\n",
    "%matplotlib inline\n",
    "\n",
    "corr = data.corr()\n",
    "\n",
    "# plot the heatmap\n",
    "plt.figure(figsize=(10, 8))\n",
    "sns.heatmap(corr, \n",
    "        xticklabels=corr.columns,\n",
    "        yticklabels=corr.columns)"
   ]
  },
  {
   "cell_type": "markdown",
   "metadata": {},
   "source": [
    "## MLP Classifier"
   ]
  },
  {
   "cell_type": "code",
   "execution_count": 362,
   "metadata": {},
   "outputs": [
    {
     "name": "stderr",
     "output_type": "stream",
     "text": [
      "/Users/benjaminlee/anaconda3/lib/python3.7/site-packages/sklearn/neural_network/multilayer_perceptron.py:921: DataConversionWarning: A column-vector y was passed when a 1d array was expected. Please change the shape of y to (n_samples, ), for example using ravel().\n",
      "  y = column_or_1d(y, warn=True)\n"
     ]
    },
    {
     "data": {
      "text/plain": [
       "MLPClassifier(activation='relu', alpha=0.0001, batch_size='auto', beta_1=0.9,\n",
       "              beta_2=0.999, early_stopping=False, epsilon=1e-08,\n",
       "              hidden_layer_sizes=(100,), learning_rate='constant',\n",
       "              learning_rate_init=0.001, max_iter=200, momentum=0.9,\n",
       "              n_iter_no_change=10, nesterovs_momentum=True, power_t=0.5,\n",
       "              random_state=None, shuffle=True, solver='adam', tol=0.0001,\n",
       "              validation_fraction=0.1, verbose=False, warm_start=False)"
      ]
     },
     "execution_count": 362,
     "metadata": {},
     "output_type": "execute_result"
    }
   ],
   "source": [
    "mlp = MLPClassifier()\n",
    "mlp.fit(X_train, y_train)"
   ]
  },
  {
   "cell_type": "code",
   "execution_count": 363,
   "metadata": {},
   "outputs": [
    {
     "data": {
      "text/plain": [
       "0.8513758146270818"
      ]
     },
     "execution_count": 363,
     "metadata": {},
     "output_type": "execute_result"
    }
   ],
   "source": [
    "pred = mlp.predict(X_val)\n",
    "accuracy_score(y_val, pred)"
   ]
  },
  {
   "cell_type": "code",
   "execution_count": 364,
   "metadata": {},
   "outputs": [
    {
     "data": {
      "text/plain": [
       "(0.4498757249378625, 0.7757142857142857, 0.5694808599895123)"
      ]
     },
     "execution_count": 364,
     "metadata": {},
     "output_type": "execute_result"
    }
   ],
   "source": [
    "recall_score(y_val, pred), precision_score(y_val, pred), f1_score(y_val, pred)"
   ]
  },
  {
   "cell_type": "markdown",
   "metadata": {},
   "source": [
    "## Logistic Regression "
   ]
  },
  {
   "cell_type": "code",
   "execution_count": 359,
   "metadata": {},
   "outputs": [
    {
     "name": "stderr",
     "output_type": "stream",
     "text": [
      "/Users/benjaminlee/anaconda3/lib/python3.7/site-packages/sklearn/linear_model/logistic.py:432: FutureWarning: Default solver will be changed to 'lbfgs' in 0.22. Specify a solver to silence this warning.\n",
      "  FutureWarning)\n",
      "/Users/benjaminlee/anaconda3/lib/python3.7/site-packages/sklearn/utils/validation.py:724: DataConversionWarning: A column-vector y was passed when a 1d array was expected. Please change the shape of y to (n_samples, ), for example using ravel().\n",
      "  y = column_or_1d(y, warn=True)\n"
     ]
    },
    {
     "data": {
      "text/plain": [
       "LogisticRegression(C=1.0, class_weight=None, dual=False, fit_intercept=True,\n",
       "                   intercept_scaling=1, l1_ratio=None, max_iter=100,\n",
       "                   multi_class='warn', n_jobs=None, penalty='l2',\n",
       "                   random_state=None, solver='warn', tol=0.0001, verbose=0,\n",
       "                   warm_start=False)"
      ]
     },
     "execution_count": 359,
     "metadata": {},
     "output_type": "execute_result"
    }
   ],
   "source": [
    "lr = LogisticRegression()\n",
    "lr.fit(X_train, y_train)"
   ]
  },
  {
   "cell_type": "code",
   "execution_count": 360,
   "metadata": {},
   "outputs": [
    {
     "data": {
      "text/plain": [
       "0.8240405503258509"
      ]
     },
     "execution_count": 360,
     "metadata": {},
     "output_type": "execute_result"
    }
   ],
   "source": [
    "pred = lr.predict(X_val)\n",
    "accuracy_score(y_val, pred)"
   ]
  },
  {
   "cell_type": "code",
   "execution_count": 361,
   "metadata": {},
   "outputs": [
    {
     "data": {
      "text/plain": [
       "(0.37033968516984256, 0.6783004552352049, 0.4790996784565917)"
      ]
     },
     "execution_count": 361,
     "metadata": {},
     "output_type": "execute_result"
    }
   ],
   "source": [
    "recall_score(y_val, pred), precision_score(y_val, pred), f1_score(y_val, pred)"
   ]
  },
  {
   "cell_type": "code",
   "execution_count": null,
   "metadata": {},
   "outputs": [],
   "source": []
  }
 ],
 "metadata": {
  "kernelspec": {
   "display_name": "Python 3",
   "language": "python",
   "name": "python3"
  },
  "language_info": {
   "codemirror_mode": {
    "name": "ipython",
    "version": 3
   },
   "file_extension": ".py",
   "mimetype": "text/x-python",
   "name": "python",
   "nbconvert_exporter": "python",
   "pygments_lexer": "ipython3",
   "version": "3.7.3"
  }
 },
 "nbformat": 4,
 "nbformat_minor": 2
}
