{
 "cells": [
  {
   "cell_type": "markdown",
   "metadata": {},
   "source": [
    "# Lab 5: Kaggle Competition"
   ]
  },
  {
   "cell_type": "markdown",
   "metadata": {},
   "source": [
    "In this lab, I will be building a predictive model for a yelp dataset"
   ]
  },
  {
   "cell_type": "markdown",
   "metadata": {},
   "source": [
    "## Import Libraries"
   ]
  },
  {
   "cell_type": "code",
   "execution_count": 44,
   "metadata": {},
   "outputs": [],
   "source": [
    "import pandas as pd\n",
    "import numpy as np\n",
    "import re\n",
    "from datetime import datetime\n",
    "\n",
    "from sklearn.preprocessing import LabelEncoder, OneHotEncoder, MultiLabelBinarizer, StandardScaler\n",
    "from sklearn.feature_extraction import DictVectorizer\n",
    "\n",
    "from sklearn.svm import SVC\n",
    "from sklearn.svm import LinearSVC\n",
    "from sklearn.linear_model import LogisticRegression\n",
    "from sklearn.ensemble import RandomForestClassifier\n",
    "from sklearn.tree import DecisionTreeClassifier\n",
    "from sklearn.pipeline import Pipeline\n",
    "\n",
    "from sklearn.model_selection import cross_validate, GridSearchCV\n",
    "from sklearn.metrics import accuracy_score"
   ]
  },
  {
   "cell_type": "markdown",
   "metadata": {},
   "source": [
    "## Import Data "
   ]
  },
  {
   "cell_type": "code",
   "execution_count": 2,
   "metadata": {},
   "outputs": [],
   "source": [
    "df_train = pd.read_csv(\"../Data/yelp_train.csv\")\n",
    "df_test = pd.read_csv(\"../Data/yelp_test.csv\")"
   ]
  },
  {
   "cell_type": "markdown",
   "metadata": {},
   "source": [
    "## Data Preprocessing"
   ]
  },
  {
   "cell_type": "code",
   "execution_count": 3,
   "metadata": {},
   "outputs": [],
   "source": [
    "#split into labels and features\n",
    "X_train = df_train.drop([\"review_id\", \"is_good_rating\"], axis=1)\n",
    "y_train = df_train.is_good_rating\n",
    "\n",
    "X_test = df_test.drop('review_id', axis=1)"
   ]
  },
  {
   "cell_type": "code",
   "execution_count": 57,
   "metadata": {},
   "outputs": [],
   "source": [
    "# # categorize businesses\n",
    "# bus_cat_train = X_train['business_categories'].fillna(\"None\")\n",
    "# bus_cat_train = bus_cat_train.apply(lambda x : x.split(','))\n",
    "\n",
    "# mlb = MultiLabelBinarizer()\n",
    "# bus_cat_train = mlb.fit_transform(bus_cat_train)\n",
    "\n",
    "# #categorize businesses\n",
    "# bus_cat_test = X_test['business_categories'].fillna(\"None\")\n",
    "# bus_cat_test = bus_cat_test.apply(lambda x : x.split(','))\n",
    "\n",
    "# bus_cat_test = mlb.transform(bus_cat_test)"
   ]
  },
  {
   "cell_type": "code",
   "execution_count": 55,
   "metadata": {},
   "outputs": [],
   "source": [
    "# bus_cat_train #onehotencoded df of types of businesses"
   ]
  },
  {
   "cell_type": "code",
   "execution_count": 56,
   "metadata": {},
   "outputs": [],
   "source": [
    "# bus_cat_train = pd.DataFrame(bus_cat_train)\n",
    "# bus_cat_train.head()"
   ]
  },
  {
   "cell_type": "code",
   "execution_count": 43,
   "metadata": {},
   "outputs": [],
   "source": [
    "# bus_cat_test = pd.DataFrame(bus_cat_test)\n",
    "# bus_cat_test.head()"
   ]
  },
  {
   "cell_type": "markdown",
   "metadata": {},
   "source": [
    "### Differentiate good and bad reviews by keywords"
   ]
  },
  {
   "cell_type": "code",
   "execution_count": 113,
   "metadata": {},
   "outputs": [],
   "source": [
    "words = ['good', 'great', 'bad', 'amazing', 'awesome', 'best', 'worst', 'love', 'hate', 'favorite', 'disgusting', \n",
    "                 'awful', 'rude', 'subpar', 'wonderful', 'fantastic', 'acceptable', 'disappointing', 'uncool', \n",
    "                 'delicious']"
   ]
  },
  {
   "cell_type": "code",
   "execution_count": 114,
   "metadata": {},
   "outputs": [],
   "source": [
    "def common_words_df(words, test=False):\n",
    "    if test == True:\n",
    "        data = X_test\n",
    "    else: \n",
    "        data = X_train\n",
    "        \n",
    "    df = None\n",
    "    for word in words:\n",
    "        if df is None: \n",
    "            df = pd.DataFrame(data.text.apply(lambda x : 1 if re.search(word, x) else 0))\n",
    "        else: \n",
    "            df[word] = (data.text.apply(lambda x : 1 if re.search(word, x) else 0))\n",
    "    return df"
   ]
  },
  {
   "cell_type": "code",
   "execution_count": 115,
   "metadata": {},
   "outputs": [],
   "source": [
    "common_words_train = common_words_df(words)"
   ]
  },
  {
   "cell_type": "code",
   "execution_count": 116,
   "metadata": {},
   "outputs": [],
   "source": [
    "common_words_tst = common_words_df(words, True)"
   ]
  },
  {
   "cell_type": "markdown",
   "metadata": {},
   "source": [
    "### Differentiate elite yelpers from non-elite"
   ]
  },
  {
   "cell_type": "code",
   "execution_count": 98,
   "metadata": {},
   "outputs": [],
   "source": [
    "#turn user elite column into number of times user has been user elite\n",
    "user_elite_tr = X_train.user_elite.apply(lambda x : 0 if x == 'None' else len(x.split(\",\")))\n",
    "user_elite_tst = X_test.user_elite.apply(lambda x : 0 if x == 'None' else len(x.split(\",\")))"
   ]
  },
  {
   "cell_type": "markdown",
   "metadata": {},
   "source": [
    "### Calculate diff from start of yelp to the year of the review"
   ]
  },
  {
   "cell_type": "code",
   "execution_count": 99,
   "metadata": {},
   "outputs": [],
   "source": [
    "review_date_tr = X_train.date.apply(lambda x: datetime.strptime(x, '%Y-%m-%d').year)\n",
    "start_date_tr = X_train.user_yelping_since.apply(lambda x: datetime.strptime(x, '%Y-%m-%d').year)\n",
    "\n",
    "date_diff_tr = review_date_tr-start_date_tr"
   ]
  },
  {
   "cell_type": "code",
   "execution_count": 100,
   "metadata": {},
   "outputs": [],
   "source": [
    "review_date_tst = X_test.date.apply(lambda x: datetime.strptime(x, '%Y-%m-%d').year)\n",
    "start_date_tst = X_test.user_yelping_since.apply(lambda x: datetime.strptime(x, '%Y-%m-%d').year)\n",
    "\n",
    "date_diff_tst = review_date_tst-start_date_tst"
   ]
  },
  {
   "cell_type": "markdown",
   "metadata": {},
   "source": [
    "## Update Training Data and Test Data"
   ]
  },
  {
   "cell_type": "code",
   "execution_count": 117,
   "metadata": {},
   "outputs": [
    {
     "data": {
      "text/html": [
       "<div>\n",
       "<style scoped>\n",
       "    .dataframe tbody tr th:only-of-type {\n",
       "        vertical-align: middle;\n",
       "    }\n",
       "\n",
       "    .dataframe tbody tr th {\n",
       "        vertical-align: top;\n",
       "    }\n",
       "\n",
       "    .dataframe thead th {\n",
       "        text-align: right;\n",
       "    }\n",
       "</style>\n",
       "<table border=\"1\" class=\"dataframe\">\n",
       "  <thead>\n",
       "    <tr style=\"text-align: right;\">\n",
       "      <th></th>\n",
       "      <th>cool</th>\n",
       "      <th>funny</th>\n",
       "      <th>useful</th>\n",
       "      <th>user_average_stars</th>\n",
       "      <th>user_elite</th>\n",
       "      <th>user_review_count</th>\n",
       "      <th>business_review_count</th>\n",
       "      <th>business_average_stars</th>\n",
       "      <th>date_diff</th>\n",
       "      <th>text</th>\n",
       "      <th>...</th>\n",
       "      <th>disgusting</th>\n",
       "      <th>awful</th>\n",
       "      <th>rude</th>\n",
       "      <th>subpar</th>\n",
       "      <th>wonderful</th>\n",
       "      <th>fantastic</th>\n",
       "      <th>acceptable</th>\n",
       "      <th>disappointing</th>\n",
       "      <th>uncool</th>\n",
       "      <th>delicious</th>\n",
       "    </tr>\n",
       "  </thead>\n",
       "  <tbody>\n",
       "    <tr>\n",
       "      <th>0</th>\n",
       "      <td>0</td>\n",
       "      <td>0</td>\n",
       "      <td>0</td>\n",
       "      <td>2.00</td>\n",
       "      <td>0</td>\n",
       "      <td>5</td>\n",
       "      <td>158</td>\n",
       "      <td>4.0</td>\n",
       "      <td>4</td>\n",
       "      <td>0</td>\n",
       "      <td>...</td>\n",
       "      <td>0</td>\n",
       "      <td>0</td>\n",
       "      <td>0</td>\n",
       "      <td>0</td>\n",
       "      <td>0</td>\n",
       "      <td>0</td>\n",
       "      <td>0</td>\n",
       "      <td>0</td>\n",
       "      <td>0</td>\n",
       "      <td>0</td>\n",
       "    </tr>\n",
       "    <tr>\n",
       "      <th>1</th>\n",
       "      <td>0</td>\n",
       "      <td>0</td>\n",
       "      <td>0</td>\n",
       "      <td>4.43</td>\n",
       "      <td>0</td>\n",
       "      <td>7</td>\n",
       "      <td>26</td>\n",
       "      <td>3.5</td>\n",
       "      <td>1</td>\n",
       "      <td>0</td>\n",
       "      <td>...</td>\n",
       "      <td>0</td>\n",
       "      <td>0</td>\n",
       "      <td>0</td>\n",
       "      <td>0</td>\n",
       "      <td>0</td>\n",
       "      <td>0</td>\n",
       "      <td>0</td>\n",
       "      <td>0</td>\n",
       "      <td>0</td>\n",
       "      <td>0</td>\n",
       "    </tr>\n",
       "    <tr>\n",
       "      <th>2</th>\n",
       "      <td>0</td>\n",
       "      <td>0</td>\n",
       "      <td>0</td>\n",
       "      <td>4.09</td>\n",
       "      <td>0</td>\n",
       "      <td>21</td>\n",
       "      <td>189</td>\n",
       "      <td>4.0</td>\n",
       "      <td>4</td>\n",
       "      <td>0</td>\n",
       "      <td>...</td>\n",
       "      <td>0</td>\n",
       "      <td>0</td>\n",
       "      <td>0</td>\n",
       "      <td>0</td>\n",
       "      <td>0</td>\n",
       "      <td>0</td>\n",
       "      <td>0</td>\n",
       "      <td>0</td>\n",
       "      <td>0</td>\n",
       "      <td>1</td>\n",
       "    </tr>\n",
       "    <tr>\n",
       "      <th>3</th>\n",
       "      <td>1</td>\n",
       "      <td>0</td>\n",
       "      <td>0</td>\n",
       "      <td>3.55</td>\n",
       "      <td>2</td>\n",
       "      <td>83</td>\n",
       "      <td>316</td>\n",
       "      <td>3.0</td>\n",
       "      <td>0</td>\n",
       "      <td>1</td>\n",
       "      <td>...</td>\n",
       "      <td>0</td>\n",
       "      <td>0</td>\n",
       "      <td>0</td>\n",
       "      <td>0</td>\n",
       "      <td>0</td>\n",
       "      <td>0</td>\n",
       "      <td>0</td>\n",
       "      <td>0</td>\n",
       "      <td>0</td>\n",
       "      <td>0</td>\n",
       "    </tr>\n",
       "    <tr>\n",
       "      <th>4</th>\n",
       "      <td>1</td>\n",
       "      <td>1</td>\n",
       "      <td>1</td>\n",
       "      <td>3.75</td>\n",
       "      <td>0</td>\n",
       "      <td>28</td>\n",
       "      <td>61</td>\n",
       "      <td>3.5</td>\n",
       "      <td>0</td>\n",
       "      <td>0</td>\n",
       "      <td>...</td>\n",
       "      <td>0</td>\n",
       "      <td>0</td>\n",
       "      <td>0</td>\n",
       "      <td>0</td>\n",
       "      <td>0</td>\n",
       "      <td>0</td>\n",
       "      <td>0</td>\n",
       "      <td>0</td>\n",
       "      <td>0</td>\n",
       "      <td>0</td>\n",
       "    </tr>\n",
       "  </tbody>\n",
       "</table>\n",
       "<p>5 rows × 29 columns</p>\n",
       "</div>"
      ],
      "text/plain": [
       "   cool  funny  useful  user_average_stars  user_elite  user_review_count  \\\n",
       "0     0      0       0                2.00           0                  5   \n",
       "1     0      0       0                4.43           0                  7   \n",
       "2     0      0       0                4.09           0                 21   \n",
       "3     1      0       0                3.55           2                 83   \n",
       "4     1      1       1                3.75           0                 28   \n",
       "\n",
       "   business_review_count  business_average_stars  date_diff  text  ...  \\\n",
       "0                    158                     4.0          4     0  ...   \n",
       "1                     26                     3.5          1     0  ...   \n",
       "2                    189                     4.0          4     0  ...   \n",
       "3                    316                     3.0          0     1  ...   \n",
       "4                     61                     3.5          0     0  ...   \n",
       "\n",
       "   disgusting  awful  rude  subpar  wonderful  fantastic  acceptable  \\\n",
       "0           0      0     0       0          0          0           0   \n",
       "1           0      0     0       0          0          0           0   \n",
       "2           0      0     0       0          0          0           0   \n",
       "3           0      0     0       0          0          0           0   \n",
       "4           0      0     0       0          0          0           0   \n",
       "\n",
       "   disappointing  uncool  delicious  \n",
       "0              0       0          0  \n",
       "1              0       0          0  \n",
       "2              0       0          1  \n",
       "3              0       0          0  \n",
       "4              0       0          0  \n",
       "\n",
       "[5 rows x 29 columns]"
      ]
     },
     "execution_count": 117,
     "metadata": {},
     "output_type": "execute_result"
    }
   ],
   "source": [
    "new_X_train = X_train.drop(['text', 'business_id', 'user_id', 'business_categories', 'business_latitude', \n",
    "              'business_longitude', 'business_state', 'business_city', 'date', 'user_yelping_since'], axis=1)\n",
    "new_X_train['user_elite'] = user_elite_tr\n",
    "new_X_train['date_diff'] = date_diff_tr\n",
    "new_X_train = new_X_train.join(common_words_train)\n",
    "# new_X_train = new_X_train.join(bus_cat_train) #add business categories\n",
    "new_X_train.head()"
   ]
  },
  {
   "cell_type": "code",
   "execution_count": 102,
   "metadata": {},
   "outputs": [],
   "source": [
    "#scale df\n",
    "scl = StandardScaler()\n",
    "new_X_train = scl.fit_transform(new_X_train)"
   ]
  },
  {
   "cell_type": "code",
   "execution_count": 118,
   "metadata": {},
   "outputs": [
    {
     "data": {
      "text/html": [
       "<div>\n",
       "<style scoped>\n",
       "    .dataframe tbody tr th:only-of-type {\n",
       "        vertical-align: middle;\n",
       "    }\n",
       "\n",
       "    .dataframe tbody tr th {\n",
       "        vertical-align: top;\n",
       "    }\n",
       "\n",
       "    .dataframe thead th {\n",
       "        text-align: right;\n",
       "    }\n",
       "</style>\n",
       "<table border=\"1\" class=\"dataframe\">\n",
       "  <thead>\n",
       "    <tr style=\"text-align: right;\">\n",
       "      <th></th>\n",
       "      <th>cool</th>\n",
       "      <th>funny</th>\n",
       "      <th>useful</th>\n",
       "      <th>user_average_stars</th>\n",
       "      <th>user_elite</th>\n",
       "      <th>user_review_count</th>\n",
       "      <th>business_review_count</th>\n",
       "      <th>business_average_stars</th>\n",
       "      <th>date_diff</th>\n",
       "      <th>text</th>\n",
       "      <th>...</th>\n",
       "      <th>disgusting</th>\n",
       "      <th>awful</th>\n",
       "      <th>rude</th>\n",
       "      <th>subpar</th>\n",
       "      <th>wonderful</th>\n",
       "      <th>fantastic</th>\n",
       "      <th>acceptable</th>\n",
       "      <th>disappointing</th>\n",
       "      <th>uncool</th>\n",
       "      <th>delicious</th>\n",
       "    </tr>\n",
       "  </thead>\n",
       "  <tbody>\n",
       "    <tr>\n",
       "      <th>0</th>\n",
       "      <td>2</td>\n",
       "      <td>1</td>\n",
       "      <td>2</td>\n",
       "      <td>3.80</td>\n",
       "      <td>4</td>\n",
       "      <td>369</td>\n",
       "      <td>81</td>\n",
       "      <td>4.0</td>\n",
       "      <td>4</td>\n",
       "      <td>0</td>\n",
       "      <td>...</td>\n",
       "      <td>0</td>\n",
       "      <td>0</td>\n",
       "      <td>0</td>\n",
       "      <td>0</td>\n",
       "      <td>0</td>\n",
       "      <td>0</td>\n",
       "      <td>0</td>\n",
       "      <td>1</td>\n",
       "      <td>0</td>\n",
       "      <td>0</td>\n",
       "    </tr>\n",
       "    <tr>\n",
       "      <th>1</th>\n",
       "      <td>1</td>\n",
       "      <td>0</td>\n",
       "      <td>2</td>\n",
       "      <td>3.80</td>\n",
       "      <td>10</td>\n",
       "      <td>483</td>\n",
       "      <td>18</td>\n",
       "      <td>5.0</td>\n",
       "      <td>4</td>\n",
       "      <td>0</td>\n",
       "      <td>...</td>\n",
       "      <td>0</td>\n",
       "      <td>0</td>\n",
       "      <td>0</td>\n",
       "      <td>0</td>\n",
       "      <td>0</td>\n",
       "      <td>0</td>\n",
       "      <td>0</td>\n",
       "      <td>0</td>\n",
       "      <td>0</td>\n",
       "      <td>0</td>\n",
       "    </tr>\n",
       "    <tr>\n",
       "      <th>2</th>\n",
       "      <td>1</td>\n",
       "      <td>1</td>\n",
       "      <td>1</td>\n",
       "      <td>4.14</td>\n",
       "      <td>0</td>\n",
       "      <td>7</td>\n",
       "      <td>572</td>\n",
       "      <td>4.0</td>\n",
       "      <td>1</td>\n",
       "      <td>0</td>\n",
       "      <td>...</td>\n",
       "      <td>0</td>\n",
       "      <td>0</td>\n",
       "      <td>0</td>\n",
       "      <td>0</td>\n",
       "      <td>0</td>\n",
       "      <td>0</td>\n",
       "      <td>0</td>\n",
       "      <td>0</td>\n",
       "      <td>0</td>\n",
       "      <td>0</td>\n",
       "    </tr>\n",
       "    <tr>\n",
       "      <th>3</th>\n",
       "      <td>1</td>\n",
       "      <td>1</td>\n",
       "      <td>2</td>\n",
       "      <td>4.26</td>\n",
       "      <td>2</td>\n",
       "      <td>131</td>\n",
       "      <td>33</td>\n",
       "      <td>4.0</td>\n",
       "      <td>1</td>\n",
       "      <td>0</td>\n",
       "      <td>...</td>\n",
       "      <td>0</td>\n",
       "      <td>0</td>\n",
       "      <td>0</td>\n",
       "      <td>0</td>\n",
       "      <td>0</td>\n",
       "      <td>0</td>\n",
       "      <td>0</td>\n",
       "      <td>0</td>\n",
       "      <td>0</td>\n",
       "      <td>0</td>\n",
       "    </tr>\n",
       "    <tr>\n",
       "      <th>4</th>\n",
       "      <td>7</td>\n",
       "      <td>6</td>\n",
       "      <td>11</td>\n",
       "      <td>3.83</td>\n",
       "      <td>6</td>\n",
       "      <td>212</td>\n",
       "      <td>558</td>\n",
       "      <td>4.0</td>\n",
       "      <td>3</td>\n",
       "      <td>1</td>\n",
       "      <td>...</td>\n",
       "      <td>0</td>\n",
       "      <td>0</td>\n",
       "      <td>0</td>\n",
       "      <td>0</td>\n",
       "      <td>0</td>\n",
       "      <td>0</td>\n",
       "      <td>0</td>\n",
       "      <td>0</td>\n",
       "      <td>0</td>\n",
       "      <td>0</td>\n",
       "    </tr>\n",
       "  </tbody>\n",
       "</table>\n",
       "<p>5 rows × 29 columns</p>\n",
       "</div>"
      ],
      "text/plain": [
       "   cool  funny  useful  user_average_stars  user_elite  user_review_count  \\\n",
       "0     2      1       2                3.80           4                369   \n",
       "1     1      0       2                3.80          10                483   \n",
       "2     1      1       1                4.14           0                  7   \n",
       "3     1      1       2                4.26           2                131   \n",
       "4     7      6      11                3.83           6                212   \n",
       "\n",
       "   business_review_count  business_average_stars  date_diff  text  ...  \\\n",
       "0                     81                     4.0          4     0  ...   \n",
       "1                     18                     5.0          4     0  ...   \n",
       "2                    572                     4.0          1     0  ...   \n",
       "3                     33                     4.0          1     0  ...   \n",
       "4                    558                     4.0          3     1  ...   \n",
       "\n",
       "   disgusting  awful  rude  subpar  wonderful  fantastic  acceptable  \\\n",
       "0           0      0     0       0          0          0           0   \n",
       "1           0      0     0       0          0          0           0   \n",
       "2           0      0     0       0          0          0           0   \n",
       "3           0      0     0       0          0          0           0   \n",
       "4           0      0     0       0          0          0           0   \n",
       "\n",
       "   disappointing  uncool  delicious  \n",
       "0              1       0          0  \n",
       "1              0       0          0  \n",
       "2              0       0          0  \n",
       "3              0       0          0  \n",
       "4              0       0          0  \n",
       "\n",
       "[5 rows x 29 columns]"
      ]
     },
     "execution_count": 118,
     "metadata": {},
     "output_type": "execute_result"
    }
   ],
   "source": [
    "new_X_test = X_test.drop(['text', 'business_id', 'user_id', 'business_categories', 'business_latitude', \n",
    "              'business_longitude', 'business_state', 'business_city', 'date', 'user_yelping_since'], axis=1)\n",
    "new_X_test['user_elite'] = user_elite_tst\n",
    "new_X_test['date_diff'] = date_diff_tst\n",
    "new_X_test = new_X_test.join(common_words_tst)\n",
    "# new_X_test = new_X_test.join(bus_cat_test)\n",
    "new_X_test.head()"
   ]
  },
  {
   "cell_type": "code",
   "execution_count": 104,
   "metadata": {},
   "outputs": [],
   "source": [
    "scl = StandardScaler()\n",
    "new_X_test = scl.fit_transform(new_X_test)"
   ]
  },
  {
   "cell_type": "markdown",
   "metadata": {},
   "source": [
    "## Train ML Models"
   ]
  },
  {
   "cell_type": "markdown",
   "metadata": {},
   "source": [
    "### Logistic Regression "
   ]
  },
  {
   "cell_type": "code",
   "execution_count": 127,
   "metadata": {},
   "outputs": [
    {
     "data": {
      "text/plain": [
       "array([0.82204537, 0.82227454, 0.82170833, 0.81912123, 0.82241297])"
      ]
     },
     "execution_count": 127,
     "metadata": {},
     "output_type": "execute_result"
    }
   ],
   "source": [
    "lr = LogisticRegression(solver='liblinear', penalty='l2', C=100)\n",
    "cv_results = cross_validate(lr, new_X_train, y_train, cv=5)\n",
    "cv_results['test_score']"
   ]
  },
  {
   "cell_type": "code",
   "execution_count": 125,
   "metadata": {},
   "outputs": [
    {
     "data": {
      "text/plain": [
       "LogisticRegression(C=1000, class_weight=None, dual=False, fit_intercept=True,\n",
       "                   intercept_scaling=1, l1_ratio=None, max_iter=100,\n",
       "                   multi_class='warn', n_jobs=None, penalty='l2',\n",
       "                   random_state=None, solver='liblinear', tol=0.0001, verbose=0,\n",
       "                   warm_start=False)"
      ]
     },
     "execution_count": 125,
     "metadata": {},
     "output_type": "execute_result"
    }
   ],
   "source": [
    "lr.fit(new_X_train, y_train)"
   ]
  },
  {
   "cell_type": "code",
   "execution_count": 126,
   "metadata": {},
   "outputs": [
    {
     "data": {
      "text/plain": [
       "0.8217416666666667"
      ]
     },
     "execution_count": 126,
     "metadata": {},
     "output_type": "execute_result"
    }
   ],
   "source": [
    "y_pred = lr.predict(new_X_train)\n",
    "accuracy_score(y_pred, y_train)"
   ]
  },
  {
   "cell_type": "markdown",
   "metadata": {},
   "source": [
    "## Grid Search"
   ]
  },
  {
   "cell_type": "code",
   "execution_count": 52,
   "metadata": {},
   "outputs": [
    {
     "name": "stdout",
     "output_type": "stream",
     "text": [
      "Fitting 5 folds for each of 40 candidates, totalling 200 fits\n"
     ]
    },
    {
     "name": "stderr",
     "output_type": "stream",
     "text": [
      "[Parallel(n_jobs=-1)]: Using backend LokyBackend with 4 concurrent workers.\n",
      "[Parallel(n_jobs=-1)]: Done  42 tasks      | elapsed:   30.2s\n",
      "[Parallel(n_jobs=-1)]: Done 192 tasks      | elapsed:  3.2min\n",
      "[Parallel(n_jobs=-1)]: Done 200 out of 200 | elapsed:  3.3min finished\n"
     ]
    }
   ],
   "source": [
    "#grid search for random forest\n",
    "pipe = Pipeline([('classifier' , RandomForestClassifier())])\n",
    "\n",
    "param_grid = [\n",
    "    {'classifier' : [LogisticRegression(solver='liblinear', penalty='l2')],\n",
    "    'classifier__C' : 'C': [0.001, 0.01, 0.1, 1, 10, 100, 1000]},\n",
    "    \n",
    "    {'classifier' : [RandomForestClassifier()],\n",
    "    'classifier__n_estimators' : list(range(10,101,15)),\n",
    "    'classifier__max_features' : list(range(6,13))}\n",
    "]\n",
    "\n",
    "clf = GridSearchCV(pipe, param_grid = param_grid, cv = 5, verbose=True, n_jobs=-1)\n",
    "\n",
    "best_clf = clf.fit(new_X_train, y_train)"
   ]
  },
  {
   "cell_type": "code",
   "execution_count": 53,
   "metadata": {},
   "outputs": [
    {
     "data": {
      "text/plain": [
       "0.8006166666666666"
      ]
     },
     "execution_count": 53,
     "metadata": {},
     "output_type": "execute_result"
    }
   ],
   "source": [
    "accuracy_score(best_clf.predict(new_X_train), y_train)"
   ]
  },
  {
   "cell_type": "code",
   "execution_count": 14,
   "metadata": {},
   "outputs": [
    {
     "name": "stdout",
     "output_type": "stream",
     "text": [
      "Fitting 5 folds for each of 7 candidates, totalling 35 fits\n"
     ]
    },
    {
     "name": "stderr",
     "output_type": "stream",
     "text": [
      "[Parallel(n_jobs=-1)]: Using backend LokyBackend with 4 concurrent workers.\n",
      "[Parallel(n_jobs=-1)]: Done  35 out of  35 | elapsed:   30.8s finished\n"
     ]
    }
   ],
   "source": [
    "#grid search for LogReg\n",
    "param_grid = {'C': [0.001, 0.01, 0.1, 1, 10, 100, 1000]}\n",
    "clf = GridSearchCV(LogisticRegression(penalty='l2', solver='liblinear'), param_grid, cv=5, verbose=True, n_jobs=-1)\n",
    "\n",
    "best_clf = clf.fit(new_X_train, y_train)"
   ]
  },
  {
   "cell_type": "code",
   "execution_count": 17,
   "metadata": {},
   "outputs": [
    {
     "data": {
      "text/plain": [
       "dict_keys(['mean_fit_time', 'std_fit_time', 'mean_score_time', 'std_score_time', 'param_C', 'params', 'split0_test_score', 'split1_test_score', 'split2_test_score', 'split3_test_score', 'split4_test_score', 'mean_test_score', 'std_test_score', 'rank_test_score'])"
      ]
     },
     "execution_count": 17,
     "metadata": {},
     "output_type": "execute_result"
    }
   ],
   "source": [
    "best_clf.cv_results_.keys()"
   ]
  },
  {
   "cell_type": "code",
   "execution_count": 24,
   "metadata": {},
   "outputs": [
    {
     "name": "stdout",
     "output_type": "stream",
     "text": [
      "[0.001 0.01 0.1 1 10 100 1000]\n",
      "[0.77833795 0.80100415 0.8015458  0.80114998 0.80117081 0.80131664\n",
      " 0.80104581]\n",
      "[0.77902544 0.79925418 0.8002125  0.800025   0.800025   0.80004583\n",
      " 0.80015   ]\n",
      "[0.77752083 0.80066667 0.7998125  0.79954167 0.79972917 0.79989583\n",
      " 0.799875  ]\n",
      "[0.7777662  0.79847497 0.79859997 0.79834997 0.79853747 0.7984333\n",
      " 0.79834997]\n",
      "[0.77843288 0.80097502 0.80116252 0.80099585 0.80141253 0.8014542\n",
      " 0.8015167 ]\n"
     ]
    }
   ],
   "source": [
    "print(best_clf.cv_results_['param_C'])\n",
    "for x in ['split0_test_score', 'split1_test_score', 'split2_test_score', 'split3_test_score', 'split4_test_score']:\n",
    "    print(best_clf.cv_results_[x])"
   ]
  },
  {
   "cell_type": "code",
   "execution_count": 15,
   "metadata": {},
   "outputs": [
    {
     "data": {
      "text/plain": [
       "0.8003333333333333"
      ]
     },
     "execution_count": 15,
     "metadata": {},
     "output_type": "execute_result"
    }
   ],
   "source": [
    "accuracy_score(best_clf.predict(new_X_train), y_train)"
   ]
  },
  {
   "cell_type": "markdown",
   "metadata": {},
   "source": [
    "# Submission"
   ]
  },
  {
   "cell_type": "code",
   "execution_count": 122,
   "metadata": {},
   "outputs": [],
   "source": [
    "submission = pd.DataFrame(index=df_test.review_id)\n",
    "submission['is_good_rating'] = lr.predict(new_X_test)"
   ]
  },
  {
   "cell_type": "code",
   "execution_count": 123,
   "metadata": {},
   "outputs": [],
   "source": [
    "submission.reset_index().to_csv('submission5.csv', index=False)"
   ]
  },
  {
   "cell_type": "markdown",
   "metadata": {},
   "source": [
    "### Linear SVC "
   ]
  },
  {
   "cell_type": "code",
   "execution_count": 1,
   "metadata": {},
   "outputs": [],
   "source": [
    "# svm = LinearSVC()\n",
    "# cv_results = cross_validate(svm, new_X_train, y_train, cv=5)\n",
    "# cv_results['test_score']"
   ]
  },
  {
   "cell_type": "code",
   "execution_count": null,
   "metadata": {},
   "outputs": [],
   "source": [
    "svm = LinearSVC()\n",
    "svm.fit(new_X_train, y_train)"
   ]
  },
  {
   "cell_type": "code",
   "execution_count": 134,
   "metadata": {},
   "outputs": [
    {
     "data": {
      "text/plain": [
       "0.7427916666666666"
      ]
     },
     "execution_count": 134,
     "metadata": {},
     "output_type": "execute_result"
    }
   ],
   "source": [
    "accuracy_score(svm.predict(new_X_train), y_train)"
   ]
  },
  {
   "cell_type": "markdown",
   "metadata": {},
   "source": [
    "### Decision Tree"
   ]
  },
  {
   "cell_type": "code",
   "execution_count": 144,
   "metadata": {},
   "outputs": [
    {
     "data": {
      "text/plain": [
       "array([0.73083894, 0.7313806 , 0.729375  , 0.72880685, 0.72647347])"
      ]
     },
     "execution_count": 144,
     "metadata": {},
     "output_type": "execute_result"
    }
   ],
   "source": [
    "clf = DecisionTreeClassifier()\n",
    "cv_results = cross_validate(clf, new_X_train, y_train, cv=5)\n",
    "cv_results['test_score']"
   ]
  },
  {
   "cell_type": "code",
   "execution_count": 145,
   "metadata": {},
   "outputs": [
    {
     "data": {
      "text/plain": [
       "DecisionTreeClassifier(class_weight=None, criterion='gini', max_depth=None,\n",
       "                       max_features=None, max_leaf_nodes=None,\n",
       "                       min_impurity_decrease=0.0, min_impurity_split=None,\n",
       "                       min_samples_leaf=1, min_samples_split=2,\n",
       "                       min_weight_fraction_leaf=0.0, presort=False,\n",
       "                       random_state=None, splitter='best')"
      ]
     },
     "execution_count": 145,
     "metadata": {},
     "output_type": "execute_result"
    }
   ],
   "source": [
    "clf = DecisionTreeClassifier()\n",
    "clf.fit(new_X_train, y_train)"
   ]
  },
  {
   "cell_type": "code",
   "execution_count": 146,
   "metadata": {},
   "outputs": [
    {
     "data": {
      "text/plain": [
       "0.9994166666666666"
      ]
     },
     "execution_count": 146,
     "metadata": {},
     "output_type": "execute_result"
    }
   ],
   "source": [
    "accuracy_score(clf.predict(new_X_train), y_train)"
   ]
  },
  {
   "cell_type": "code",
   "execution_count": null,
   "metadata": {},
   "outputs": [],
   "source": []
  }
 ],
 "metadata": {
  "kernelspec": {
   "display_name": "Python 3",
   "language": "python",
   "name": "python3"
  },
  "language_info": {
   "codemirror_mode": {
    "name": "ipython",
    "version": 3
   },
   "file_extension": ".py",
   "mimetype": "text/x-python",
   "name": "python",
   "nbconvert_exporter": "python",
   "pygments_lexer": "ipython3",
   "version": "3.7.3"
  }
 },
 "nbformat": 4,
 "nbformat_minor": 2
}
